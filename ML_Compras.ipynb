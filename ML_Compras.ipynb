{
 "cells": [
  {
   "cell_type": "code",
   "execution_count": 119,
   "id": "334cc5bc-1084-4e2a-a07c-0113ef234e63",
   "metadata": {},
   "outputs": [],
   "source": [
    "import pandas as pd\n",
    "from sklearn.model_selection import train_test_split\n",
    "from sklearn.ensemble import RandomForestRegressor\n",
    "import numpy as np\n",
    "\n"
   ]
  },
  {
   "cell_type": "code",
   "execution_count": 120,
   "id": "93d4a6c3-077f-4213-ba33-463ed96bf8f8",
   "metadata": {},
   "outputs": [],
   "source": [
    "# Carregar os dados\n",
    "df = pd.read_csv('C:/Users/julia/OneDrive/Documentos/Ciencia_de_dados/Modelo_Previsao_Compras/Dados_Ficticios_Vendas.csv', low_memory=False)\n",
    "\n"
   ]
  },
  {
   "cell_type": "code",
   "execution_count": 121,
   "id": "bb09c603-dcca-437d-bdd5-f52aa29d6032",
   "metadata": {},
   "outputs": [],
   "source": [
    "# Converter a coluna 'DateSale' para datetime, especificando o formato 'YYYY-MM-DD'\n",
    "df['DateSale'] = pd.to_datetime(df['DateSale'], format='%Y-%m-%d', errors='coerce')\n",
    "\n",
    "# Verificar se a conversão foi bem-sucedida e lidar com dados faltantes\n",
    "if df['DateSale'].isnull().any():\n",
    "    print(\"Existem datas inválidas ou ausentes que foram convertidas para NaT.\")\n",
    "    print(df[df['DateSale'].isnull()])\n",
    "    df = df.dropna(subset=['DateSale'])\n",
    "\n"
   ]
  },
  {
   "cell_type": "code",
   "execution_count": 122,
   "id": "8df210be-b8ca-4fd2-90ee-584e6733633d",
   "metadata": {},
   "outputs": [],
   "source": [
    "# Ordenar por 'product_id' e 'DateSale'\n",
    "df = df.sort_values(by=['product_id', 'DateSale'])\n",
    "\n"
   ]
  },
  {
   "cell_type": "code",
   "execution_count": 123,
   "id": "375c1fbe-ccc4-41e5-8d51-e0cb4d90d429",
   "metadata": {},
   "outputs": [],
   "source": [
    "# Calcular o intervalo entre compras\n",
    "df['Intervalo_Dias'] = df.groupby('product_id')['DateSale'].diff().dt.days\n",
    "\n"
   ]
  },
  {
   "cell_type": "code",
   "execution_count": 124,
   "id": "df3e37e0-40a8-4289-9c69-2a853736edca",
   "metadata": {},
   "outputs": [],
   "source": [
    "# Preencher NaNs com a média dos intervalos\n",
    "df['Intervalo_Dias'].fillna(df['Intervalo_Dias'].mean(), inplace=True)\n",
    "\n"
   ]
  },
  {
   "cell_type": "code",
   "execution_count": 125,
   "id": "e375bcc2-c0a4-4dd0-9546-e7affd2bc14d",
   "metadata": {},
   "outputs": [],
   "source": [
    "# Feature engineering: Usar 'price_x' e 'quantity' como características\n",
    "X = df[['price_x', 'quantity']]\n",
    "y_intervalo = df['Intervalo_Dias']\n",
    "y_quantity = df['quantity']  # Usando a quantidade atual para prever a quantidade\n",
    "\n"
   ]
  },
  {
   "cell_type": "code",
   "execution_count": 126,
   "id": "e96644f8-63fd-4791-b29e-8874f1634494",
   "metadata": {},
   "outputs": [],
   "source": [
    "# Dividir dados em treino e teste\n",
    "X_train, X_test, y_train_intervalo, y_test_intervalo = train_test_split(X, y_intervalo, test_size=0.2, random_state=42)\n",
    "_, _, y_train_quantity, y_test_quantity = train_test_split(X, y_quantity, test_size=0.2, random_state=42)\n",
    "\n"
   ]
  },
  {
   "cell_type": "code",
   "execution_count": 127,
   "id": "0fd4ba39-c62c-4113-b6a0-95bb4a108d0a",
   "metadata": {},
   "outputs": [
    {
     "data": {
      "text/html": [
       "<style>#sk-container-id-5 {color: black;background-color: white;}#sk-container-id-5 pre{padding: 0;}#sk-container-id-5 div.sk-toggleable {background-color: white;}#sk-container-id-5 label.sk-toggleable__label {cursor: pointer;display: block;width: 100%;margin-bottom: 0;padding: 0.3em;box-sizing: border-box;text-align: center;}#sk-container-id-5 label.sk-toggleable__label-arrow:before {content: \"▸\";float: left;margin-right: 0.25em;color: #696969;}#sk-container-id-5 label.sk-toggleable__label-arrow:hover:before {color: black;}#sk-container-id-5 div.sk-estimator:hover label.sk-toggleable__label-arrow:before {color: black;}#sk-container-id-5 div.sk-toggleable__content {max-height: 0;max-width: 0;overflow: hidden;text-align: left;background-color: #f0f8ff;}#sk-container-id-5 div.sk-toggleable__content pre {margin: 0.2em;color: black;border-radius: 0.25em;background-color: #f0f8ff;}#sk-container-id-5 input.sk-toggleable__control:checked~div.sk-toggleable__content {max-height: 200px;max-width: 100%;overflow: auto;}#sk-container-id-5 input.sk-toggleable__control:checked~label.sk-toggleable__label-arrow:before {content: \"▾\";}#sk-container-id-5 div.sk-estimator input.sk-toggleable__control:checked~label.sk-toggleable__label {background-color: #d4ebff;}#sk-container-id-5 div.sk-label input.sk-toggleable__control:checked~label.sk-toggleable__label {background-color: #d4ebff;}#sk-container-id-5 input.sk-hidden--visually {border: 0;clip: rect(1px 1px 1px 1px);clip: rect(1px, 1px, 1px, 1px);height: 1px;margin: -1px;overflow: hidden;padding: 0;position: absolute;width: 1px;}#sk-container-id-5 div.sk-estimator {font-family: monospace;background-color: #f0f8ff;border: 1px dotted black;border-radius: 0.25em;box-sizing: border-box;margin-bottom: 0.5em;}#sk-container-id-5 div.sk-estimator:hover {background-color: #d4ebff;}#sk-container-id-5 div.sk-parallel-item::after {content: \"\";width: 100%;border-bottom: 1px solid gray;flex-grow: 1;}#sk-container-id-5 div.sk-label:hover label.sk-toggleable__label {background-color: #d4ebff;}#sk-container-id-5 div.sk-serial::before {content: \"\";position: absolute;border-left: 1px solid gray;box-sizing: border-box;top: 0;bottom: 0;left: 50%;z-index: 0;}#sk-container-id-5 div.sk-serial {display: flex;flex-direction: column;align-items: center;background-color: white;padding-right: 0.2em;padding-left: 0.2em;position: relative;}#sk-container-id-5 div.sk-item {position: relative;z-index: 1;}#sk-container-id-5 div.sk-parallel {display: flex;align-items: stretch;justify-content: center;background-color: white;position: relative;}#sk-container-id-5 div.sk-item::before, #sk-container-id-5 div.sk-parallel-item::before {content: \"\";position: absolute;border-left: 1px solid gray;box-sizing: border-box;top: 0;bottom: 0;left: 50%;z-index: -1;}#sk-container-id-5 div.sk-parallel-item {display: flex;flex-direction: column;z-index: 1;position: relative;background-color: white;}#sk-container-id-5 div.sk-parallel-item:first-child::after {align-self: flex-end;width: 50%;}#sk-container-id-5 div.sk-parallel-item:last-child::after {align-self: flex-start;width: 50%;}#sk-container-id-5 div.sk-parallel-item:only-child::after {width: 0;}#sk-container-id-5 div.sk-dashed-wrapped {border: 1px dashed gray;margin: 0 0.4em 0.5em 0.4em;box-sizing: border-box;padding-bottom: 0.4em;background-color: white;}#sk-container-id-5 div.sk-label label {font-family: monospace;font-weight: bold;display: inline-block;line-height: 1.2em;}#sk-container-id-5 div.sk-label-container {text-align: center;}#sk-container-id-5 div.sk-container {/* jupyter's `normalize.less` sets `[hidden] { display: none; }` but bootstrap.min.css set `[hidden] { display: none !important; }` so we also need the `!important` here to be able to override the default hidden behavior on the sphinx rendered scikit-learn.org. See: https://github.com/scikit-learn/scikit-learn/issues/21755 */display: inline-block !important;position: relative;}#sk-container-id-5 div.sk-text-repr-fallback {display: none;}</style><div id=\"sk-container-id-5\" class=\"sk-top-container\"><div class=\"sk-text-repr-fallback\"><pre>RandomForestRegressor(random_state=42)</pre><b>In a Jupyter environment, please rerun this cell to show the HTML representation or trust the notebook. <br />On GitHub, the HTML representation is unable to render, please try loading this page with nbviewer.org.</b></div><div class=\"sk-container\" hidden><div class=\"sk-item\"><div class=\"sk-estimator sk-toggleable\"><input class=\"sk-toggleable__control sk-hidden--visually\" id=\"sk-estimator-id-5\" type=\"checkbox\" checked><label for=\"sk-estimator-id-5\" class=\"sk-toggleable__label sk-toggleable__label-arrow\">RandomForestRegressor</label><div class=\"sk-toggleable__content\"><pre>RandomForestRegressor(random_state=42)</pre></div></div></div></div></div>"
      ],
      "text/plain": [
       "RandomForestRegressor(random_state=42)"
      ]
     },
     "execution_count": 127,
     "metadata": {},
     "output_type": "execute_result"
    }
   ],
   "source": [
    "# Treinar o modelo para Intervalo_Dias\n",
    "model_intervalo = RandomForestRegressor(n_estimators=100, random_state=42)\n",
    "model_intervalo.fit(X_train, y_train_intervalo)\n",
    "\n"
   ]
  },
  {
   "cell_type": "code",
   "execution_count": 128,
   "id": "49d41ee7-7e7c-4949-8954-4bf7cfac0eb6",
   "metadata": {},
   "outputs": [
    {
     "data": {
      "text/html": [
       "<style>#sk-container-id-6 {color: black;background-color: white;}#sk-container-id-6 pre{padding: 0;}#sk-container-id-6 div.sk-toggleable {background-color: white;}#sk-container-id-6 label.sk-toggleable__label {cursor: pointer;display: block;width: 100%;margin-bottom: 0;padding: 0.3em;box-sizing: border-box;text-align: center;}#sk-container-id-6 label.sk-toggleable__label-arrow:before {content: \"▸\";float: left;margin-right: 0.25em;color: #696969;}#sk-container-id-6 label.sk-toggleable__label-arrow:hover:before {color: black;}#sk-container-id-6 div.sk-estimator:hover label.sk-toggleable__label-arrow:before {color: black;}#sk-container-id-6 div.sk-toggleable__content {max-height: 0;max-width: 0;overflow: hidden;text-align: left;background-color: #f0f8ff;}#sk-container-id-6 div.sk-toggleable__content pre {margin: 0.2em;color: black;border-radius: 0.25em;background-color: #f0f8ff;}#sk-container-id-6 input.sk-toggleable__control:checked~div.sk-toggleable__content {max-height: 200px;max-width: 100%;overflow: auto;}#sk-container-id-6 input.sk-toggleable__control:checked~label.sk-toggleable__label-arrow:before {content: \"▾\";}#sk-container-id-6 div.sk-estimator input.sk-toggleable__control:checked~label.sk-toggleable__label {background-color: #d4ebff;}#sk-container-id-6 div.sk-label input.sk-toggleable__control:checked~label.sk-toggleable__label {background-color: #d4ebff;}#sk-container-id-6 input.sk-hidden--visually {border: 0;clip: rect(1px 1px 1px 1px);clip: rect(1px, 1px, 1px, 1px);height: 1px;margin: -1px;overflow: hidden;padding: 0;position: absolute;width: 1px;}#sk-container-id-6 div.sk-estimator {font-family: monospace;background-color: #f0f8ff;border: 1px dotted black;border-radius: 0.25em;box-sizing: border-box;margin-bottom: 0.5em;}#sk-container-id-6 div.sk-estimator:hover {background-color: #d4ebff;}#sk-container-id-6 div.sk-parallel-item::after {content: \"\";width: 100%;border-bottom: 1px solid gray;flex-grow: 1;}#sk-container-id-6 div.sk-label:hover label.sk-toggleable__label {background-color: #d4ebff;}#sk-container-id-6 div.sk-serial::before {content: \"\";position: absolute;border-left: 1px solid gray;box-sizing: border-box;top: 0;bottom: 0;left: 50%;z-index: 0;}#sk-container-id-6 div.sk-serial {display: flex;flex-direction: column;align-items: center;background-color: white;padding-right: 0.2em;padding-left: 0.2em;position: relative;}#sk-container-id-6 div.sk-item {position: relative;z-index: 1;}#sk-container-id-6 div.sk-parallel {display: flex;align-items: stretch;justify-content: center;background-color: white;position: relative;}#sk-container-id-6 div.sk-item::before, #sk-container-id-6 div.sk-parallel-item::before {content: \"\";position: absolute;border-left: 1px solid gray;box-sizing: border-box;top: 0;bottom: 0;left: 50%;z-index: -1;}#sk-container-id-6 div.sk-parallel-item {display: flex;flex-direction: column;z-index: 1;position: relative;background-color: white;}#sk-container-id-6 div.sk-parallel-item:first-child::after {align-self: flex-end;width: 50%;}#sk-container-id-6 div.sk-parallel-item:last-child::after {align-self: flex-start;width: 50%;}#sk-container-id-6 div.sk-parallel-item:only-child::after {width: 0;}#sk-container-id-6 div.sk-dashed-wrapped {border: 1px dashed gray;margin: 0 0.4em 0.5em 0.4em;box-sizing: border-box;padding-bottom: 0.4em;background-color: white;}#sk-container-id-6 div.sk-label label {font-family: monospace;font-weight: bold;display: inline-block;line-height: 1.2em;}#sk-container-id-6 div.sk-label-container {text-align: center;}#sk-container-id-6 div.sk-container {/* jupyter's `normalize.less` sets `[hidden] { display: none; }` but bootstrap.min.css set `[hidden] { display: none !important; }` so we also need the `!important` here to be able to override the default hidden behavior on the sphinx rendered scikit-learn.org. See: https://github.com/scikit-learn/scikit-learn/issues/21755 */display: inline-block !important;position: relative;}#sk-container-id-6 div.sk-text-repr-fallback {display: none;}</style><div id=\"sk-container-id-6\" class=\"sk-top-container\"><div class=\"sk-text-repr-fallback\"><pre>RandomForestRegressor(random_state=42)</pre><b>In a Jupyter environment, please rerun this cell to show the HTML representation or trust the notebook. <br />On GitHub, the HTML representation is unable to render, please try loading this page with nbviewer.org.</b></div><div class=\"sk-container\" hidden><div class=\"sk-item\"><div class=\"sk-estimator sk-toggleable\"><input class=\"sk-toggleable__control sk-hidden--visually\" id=\"sk-estimator-id-6\" type=\"checkbox\" checked><label for=\"sk-estimator-id-6\" class=\"sk-toggleable__label sk-toggleable__label-arrow\">RandomForestRegressor</label><div class=\"sk-toggleable__content\"><pre>RandomForestRegressor(random_state=42)</pre></div></div></div></div></div>"
      ],
      "text/plain": [
       "RandomForestRegressor(random_state=42)"
      ]
     },
     "execution_count": 128,
     "metadata": {},
     "output_type": "execute_result"
    }
   ],
   "source": [
    "# Treinar o modelo para quantidade\n",
    "model_quantity = RandomForestRegressor(n_estimators=100, random_state=42)\n",
    "model_quantity.fit(X_train, y_train_quantity)\n",
    "\n"
   ]
  },
  {
   "cell_type": "code",
   "execution_count": 129,
   "id": "2809008f-cf67-48ad-b5b2-5f6f292328e0",
   "metadata": {},
   "outputs": [],
   "source": [
    "# Prever o intervalo de dias e a quantidade para o conjunto completo\n",
    "df['Previsao_Intervalo_Dias'] = model_intervalo.predict(X)\n",
    "df['Previsao_Quantidade'] = model_quantity.predict(X)\n",
    "\n"
   ]
  },
  {
   "cell_type": "code",
   "execution_count": 130,
   "id": "d76369de-2f84-45f8-97c4-93249f5eb211",
   "metadata": {},
   "outputs": [],
   "source": [
    "# Calcular a data prevista para a próxima compra\n",
    "df['Data_Previsao_Compra'] = df['DateSale'] + pd.to_timedelta(df['Previsao_Intervalo_Dias'], unit='d')\n",
    "\n"
   ]
  },
  {
   "cell_type": "code",
   "execution_count": 131,
   "id": "efa3c881-6b30-43a0-86c3-6c0c6665f3e8",
   "metadata": {},
   "outputs": [],
   "source": [
    "# Obter a última data de compra para cada produto\n",
    "ultima_compra = df.groupby('product_id')['DateSale'].max().reset_index()\n",
    "ultima_compra.rename(columns={'DateSale': 'Ultima_Data_Compra'}, inplace=True)\n",
    "\n"
   ]
  },
  {
   "cell_type": "code",
   "execution_count": 132,
   "id": "9b8fc77d-f7ff-461b-94aa-8ca7709997b4",
   "metadata": {},
   "outputs": [],
   "source": [
    "# Obter a média dos intervalos de compra e quantidade para cada produto\n",
    "media_intervalos = df.groupby('product_id')['Previsao_Intervalo_Dias'].mean().reset_index()\n",
    "media_intervalos.rename(columns={'Previsao_Intervalo_Dias': 'Media_Intervalo_Dias'}, inplace=True)\n",
    "media_quantidade = df.groupby('product_id')['Previsao_Quantidade'].mean().reset_index()\n",
    "media_quantidade.rename(columns={'Previsao_Quantidade': 'Media_Quantidade'}, inplace=True)\n",
    "\n"
   ]
  },
  {
   "cell_type": "code",
   "execution_count": 133,
   "id": "4ff8c1e6-2980-44c9-b320-ff66b881676c",
   "metadata": {},
   "outputs": [],
   "source": [
    "# Prever a próxima data de compra usando a média do intervalo\n",
    "media_intervalos['Data_Previsao_Compra'] = pd.to_datetime(ultima_compra['Ultima_Data_Compra']) + pd.to_timedelta(media_intervalos['Media_Intervalo_Dias'], unit='d')\n",
    "\n"
   ]
  },
  {
   "cell_type": "code",
   "execution_count": 134,
   "id": "815ac0f9-8c6e-4736-8e42-7a6e0164dc0c",
   "metadata": {},
   "outputs": [],
   "source": [
    "# Selecionar e unir as previsões com as últimas datas de compra\n",
    "resultado = pd.merge(ultima_compra[['product_id', 'Ultima_Data_Compra']], \n",
    "                     media_intervalos[['product_id', 'Data_Previsao_Compra']],\n",
    "                     on='product_id')\n",
    "resultado = pd.merge(resultado, media_quantidade[['product_id', 'Media_Quantidade']], on='product_id')\n",
    "\n"
   ]
  },
  {
   "cell_type": "code",
   "execution_count": 135,
   "id": "b1479c93-92c4-4601-a58e-ac6f71adb5f4",
   "metadata": {},
   "outputs": [
    {
     "name": "stdout",
     "output_type": "stream",
     "text": [
      "     product_id          Data_Previsao_Compra  Media_Quantidade\n",
      "0           201 2024-08-21 05:00:10.492151146        187.676702\n",
      "1           202 2024-08-26 03:19:11.442914492        223.678996\n",
      "2           203 2024-08-25 02:19:05.415872615        326.227124\n",
      "3           204 2024-08-26 02:57:43.424784541        183.358027\n",
      "4           205 2024-08-25 02:46:45.972289223        230.232996\n",
      "5           206 2024-08-26 00:37:18.621151746        207.354596\n",
      "6           207 2024-08-22 04:21:35.747767869        130.219735\n",
      "7           208 2024-08-21 03:40:30.068458633        274.204624\n",
      "8           209 2024-08-23 04:00:57.925901868        203.594188\n",
      "9           210 2024-08-24 03:15:55.156202409        310.915372\n",
      "10          211 2024-08-23 03:40:33.979135324        234.404356\n",
      "11          212 2024-08-25 02:33:49.218835291        317.385561\n",
      "12          213 2024-08-23 02:35:28.975535335        313.721111\n",
      "13          214 2024-08-26 04:36:59.980929048        208.930831\n",
      "14          215 2024-08-22 02:41:39.101291036        384.425882\n",
      "15          216 2024-08-26 01:49:59.281309456        222.330004\n",
      "16          217 2024-08-26 02:47:03.371233640        219.565584\n",
      "17          218 2024-08-23 02:12:23.173754160        172.875251\n",
      "18          219 2024-08-26 02:07:43.119386973        299.756618\n",
      "19          220 2024-08-19 05:07:51.120498034        226.326583\n",
      "20          221 2024-08-25 01:52:01.111177968        203.262573\n",
      "21          222 2024-08-24 03:53:11.083875334        315.026620\n",
      "22          223 2024-08-22 01:29:38.474179920        297.480491\n",
      "23          224 2024-08-26 01:24:58.804428830        231.303440\n",
      "24          225 2024-08-17 04:08:09.668014051        269.309801\n",
      "25          226 2024-08-26 02:14:59.069945031        251.179596\n",
      "26          227 2024-08-25 01:43:33.755954206        261.181825\n",
      "27          228 2024-08-21 02:13:55.657877698        280.015657\n",
      "28          229 2024-08-24 01:32:13.287189465        263.423977\n",
      "29          230 2024-08-24 02:59:10.940763039        285.854732\n",
      "30          231 2024-08-26 03:17:03.460908396        246.324917\n",
      "31          232 2024-08-25 03:31:11.783801032        214.714399\n",
      "32          233 2024-08-26 02:44:07.962765083        273.630617\n",
      "33          234 2024-08-26 03:34:02.653461416        329.541006\n",
      "34          235 2024-08-26 04:59:41.720896049        307.785226\n",
      "35          236 2024-08-24 23:59:26.491958413        274.667874\n",
      "36          237 2024-08-13 02:55:43.890630738        244.103839\n",
      "37          238 2024-08-26 02:28:57.387105039        199.649855\n",
      "38          239 2024-08-25 05:03:21.721451575        187.426333\n",
      "39          240 2024-08-26 02:18:00.537028208        271.078693\n",
      "40          241 2024-08-25 01:14:33.506340993        396.250690\n",
      "41          242 2024-08-26 04:10:31.640303271        255.574309\n",
      "42          243 2024-08-26 03:56:06.941329906        203.408422\n",
      "43          244 2024-08-21 01:31:20.730636811        250.478075\n",
      "44          245 2024-08-26 03:07:36.608550340        297.104361\n",
      "45          246 2024-08-24 02:55:10.761549565        258.769460\n",
      "46          247 2024-08-25 02:58:17.021072383        287.547392\n",
      "47          248 2024-08-22 04:30:48.213682090        349.294450\n",
      "48          249 2024-08-26 03:00:26.068855440        154.180929\n",
      "49          250 2024-08-25 01:47:42.360163984        350.211711\n",
      "50          251 2024-08-21 03:30:58.976694169        328.542466\n",
      "51          252 2024-08-23 03:55:39.346166884        344.686101\n",
      "52          253 2024-08-25 00:33:37.290255390        227.037338\n",
      "53          254 2024-08-22 02:09:16.590545104        232.122369\n",
      "54          255 2024-08-24 02:44:46.672350967        240.334789\n",
      "55          256 2024-08-24 02:55:06.294399582        324.663751\n",
      "56          257 2024-08-25 02:40:25.832288213        271.731242\n",
      "57          258 2024-08-26 00:45:55.675826254        231.126463\n",
      "58          259 2024-08-26 03:14:17.649067810        228.140304\n",
      "59          260 2024-08-26 04:06:52.892162487        267.879647\n",
      "60          261 2024-08-21 03:03:30.617677673        306.205891\n",
      "61          262 2024-08-26 00:32:33.326379251        329.319583\n",
      "62          263 2024-08-26 02:07:56.358075495        253.718003\n",
      "63          264 2024-08-25 04:46:23.067049163        238.607192\n",
      "64          265 2024-08-23 03:06:43.334803676        321.541714\n",
      "65          266 2024-08-14 02:00:19.838383623        164.467498\n",
      "66          267 2024-08-24 01:59:14.491720334        241.554952\n",
      "67          268 2024-08-25 03:47:57.631198611        340.737949\n",
      "68          269 2024-08-26 02:27:44.849056472        300.270965\n",
      "69          270 2024-08-20 03:05:33.200569291        316.077838\n",
      "70          271 2024-08-25 02:54:13.543208714        375.671270\n",
      "71          272 2024-08-21 02:10:51.949587679        207.264551\n",
      "72          273 2024-08-22 01:11:15.353251068        268.816486\n",
      "73          274 2024-08-25 01:19:18.922565061        230.675458\n",
      "74          275 2024-08-25 01:42:39.227985302        247.710273\n",
      "75          276 2024-08-26 04:55:09.900018831        211.192895\n",
      "76          277 2024-08-17 02:59:55.693570744        331.508754\n",
      "77          278 2024-08-23 03:48:17.505411333        171.500011\n",
      "78          279 2024-08-26 03:16:29.936890948        256.167779\n",
      "79          280 2024-08-24 03:25:24.717023958        365.780369\n",
      "80          281 2024-08-26 02:30:40.071295385        199.984899\n",
      "81          282 2024-08-26 05:36:36.662634095        247.750691\n",
      "82          283 2024-08-24 04:46:32.066404155        237.535678\n",
      "83          284 2024-08-24 03:08:18.046831937        219.236177\n",
      "84          285 2024-08-23 02:13:30.402363017        301.916153\n",
      "85          286 2024-08-26 04:01:57.040052635        240.358701\n",
      "86          287 2024-08-25 02:51:12.339390009        264.250776\n",
      "87          288 2024-08-26 04:06:53.358552875        382.684526\n",
      "88          289 2024-08-25 01:39:25.863894967        196.067155\n",
      "89          290 2024-08-26 00:54:54.940513619        259.900415\n",
      "90          291 2024-08-19 02:04:23.621787854        280.693268\n",
      "91          292 2024-08-24 01:00:43.457275607        175.939273\n",
      "92          293 2024-08-24 02:15:12.536960189        283.942724\n",
      "93          294 2024-08-23 02:31:36.859558048        254.261288\n",
      "94          295 2024-08-26 03:12:18.115526220        304.851620\n",
      "95          296 2024-08-25 02:50:23.442914492        307.385494\n",
      "96          297 2024-08-25 02:40:28.382450681        230.093288\n",
      "97          298 2024-08-25 01:28:15.998412780        209.612600\n",
      "98          299 2024-08-23 03:07:40.537651762        232.679645\n",
      "99          300 2024-08-24 03:08:40.268389398        239.448276\n",
      "100         301 2024-08-25 03:48:51.800378253        135.469380\n",
      "101         302 2024-08-26 03:46:52.215191261        189.996835\n",
      "102         303 2024-08-26 02:27:39.116764077        254.199655\n",
      "103         304 2024-08-26 03:02:23.133768532        299.363705\n",
      "104         305 2024-08-26 02:31:48.899352083        286.749435\n",
      "105         306 2024-08-26 01:22:42.413070584        248.187699\n",
      "106         307 2024-08-19 02:23:32.647760358        256.160827\n",
      "107         308 2024-08-19 01:53:02.413412234        191.259360\n",
      "108         309 2024-08-26 02:59:54.575335245        244.318410\n",
      "109         310 2024-08-24 03:11:37.260281863        330.801903\n",
      "110         311 2024-08-26 01:32:24.273486666        274.207674\n",
      "111         312 2024-08-25 03:29:27.836778721        236.442763\n",
      "112         313 2024-08-26 02:59:36.539242270        231.570671\n",
      "113         314 2024-08-25 03:49:54.340269657        273.054484\n",
      "114         315 2024-08-25 02:54:07.205886158        301.312461\n",
      "115         316 2024-08-26 04:40:57.458878654        319.159777\n",
      "116         317 2024-08-14 01:02:45.818578484        314.065253\n",
      "117         318 2024-08-26 01:56:59.692338481        213.160166\n",
      "118         319 2024-08-25 03:28:37.916046609        260.811380\n",
      "119         320 2024-08-26 04:05:08.760877488        229.681029\n",
      "120         321 2024-08-26 03:27:40.395246168        289.989050\n",
      "121         322 2024-08-26 03:18:21.656313826        115.051067\n",
      "122         323 2024-08-24 04:02:48.899147095        385.759900\n",
      "123         324 2024-08-25 01:58:54.701609416        276.755030\n",
      "124         325 2024-08-26 04:28:54.503149293        333.280114\n",
      "125         326 2024-08-19 01:21:03.804243788        233.941635\n",
      "126         327 2024-08-26 01:21:28.593193829        376.623159\n",
      "127         328 2024-08-25 02:11:43.548718200        196.141197\n",
      "128         329 2024-08-26 03:11:14.817038616        175.945499\n",
      "129         330 2024-08-25 05:12:20.323231044        298.312643\n",
      "130         331 2024-08-21 04:23:38.755629309        236.981043\n",
      "131         332 2024-08-25 04:42:27.155390155        332.888684\n",
      "132         333 2024-08-26 03:29:18.179029956        290.485987\n",
      "133         334 2024-08-21 03:37:07.837257034        284.501546\n",
      "134         335 2024-08-22 02:01:59.115875787        207.794862\n",
      "135         336 2024-08-24 02:18:40.160898054        313.321925\n",
      "136         337 2024-08-26 03:35:00.251113413        193.697917\n",
      "137         338 2024-08-24 02:23:56.178859128        146.300940\n",
      "138         339 2024-08-26 02:47:46.016833629        275.169277\n",
      "139         340 2024-08-26 03:56:12.276327255        359.021666\n",
      "140         341 2024-08-26 01:34:00.935547556        254.333532\n",
      "141         342 2024-08-26 03:23:15.746700022        231.930686\n",
      "142         343 2024-08-26 03:27:43.043621503        363.093898\n",
      "143         344 2024-08-26 03:06:53.584059542        220.978035\n",
      "144         345 2024-08-21 05:04:09.869621134        360.537089\n",
      "145         346 2024-08-24 03:42:29.061890064        268.568928\n",
      "146         347 2024-08-26 02:07:32.485495699        281.183882\n",
      "147         348 2024-08-24 01:37:56.719331342        198.068301\n",
      "148         349 2024-08-26 01:31:14.359989195        222.114769\n",
      "149         350 2024-08-25 02:48:39.872564213        227.657413\n",
      "150         351 2024-08-26 02:57:01.170203158        292.456329\n",
      "151         352 2024-08-26 04:36:05.473452504        125.496557\n",
      "152         353 2024-08-23 02:11:00.161239704        209.744766\n",
      "153         354 2024-08-24 04:55:27.367877496        214.796574\n",
      "154         355 2024-08-23 02:38:58.972118841        279.502911\n",
      "155         356 2024-08-25 02:53:13.187890913        341.943792\n",
      "156         357 2024-08-24 03:32:44.730722955        224.283794\n",
      "157         358 2024-08-25 04:13:05.133666034        364.486447\n",
      "158         359 2024-08-26 01:50:23.872700869        193.031904\n",
      "159         360 2024-08-25 03:28:58.161000547        386.956166\n",
      "160         361 2024-08-26 03:59:33.692406812        215.620761\n",
      "161         362 2024-08-26 04:00:11.422307364        209.390820\n",
      "162         363 2024-08-25 03:15:53.187754259        311.776083\n",
      "163         364 2024-08-26 03:32:15.292645964        300.990460\n",
      "164         365 2024-08-25 01:59:34.034931363        252.910708\n",
      "165         366 2024-08-24 00:53:55.710777865        296.250484\n",
      "166         367 2024-08-26 03:50:10.214883775        208.625812\n",
      "167         368 2024-08-25 02:09:39.217004449        275.886493\n",
      "168         369 2024-08-25 02:24:52.214781280        289.607612\n",
      "169         370 2024-08-24 02:47:06.326447438        265.329020\n",
      "170         371 2024-08-26 02:58:34.071331828        277.423069\n",
      "171         372 2024-08-26 04:57:30.809170886        203.703955\n",
      "172         373 2024-08-22 01:56:31.987925079        215.174887\n",
      "173         374 2024-08-25 01:44:06.953337810        209.167328\n",
      "174         375 2024-08-26 03:42:04.052926604        277.873988\n",
      "175         376 2024-08-26 01:22:04.993364651        278.249338\n",
      "176         377 2024-08-25 04:35:36.684229153        189.968438\n",
      "177         378 2024-08-23 03:17:15.675129032        271.174266\n",
      "178         379 2024-08-26 03:38:38.737531576        305.369391\n",
      "179         380 2024-08-25 01:55:33.075985598        261.752282\n",
      "180         381 2024-08-16 04:07:27.025865414        236.915589\n",
      "181         382 2024-08-26 03:35:50.106775672        268.576654\n",
      "182         383 2024-08-26 03:13:05.530586301        343.356479\n",
      "183         384 2024-08-25 02:34:02.016696964        287.837556\n",
      "184         385 2024-08-26 05:06:05.980979805        235.301861\n",
      "185         386 2024-08-26 02:12:48.827166131        238.073529\n",
      "186         387 2024-08-25 02:56:22.196991027        317.148108\n",
      "187         388 2024-08-26 03:02:30.251010920        342.202650\n",
      "188         389 2024-08-24 03:19:14.034589714        163.177293\n",
      "189         390 2024-08-23 03:28:22.863737415        230.949437\n",
      "190         391 2024-08-25 02:22:26.738836818        269.049613\n",
      "191         392 2024-08-23 02:28:10.131921177        424.156474\n",
      "192         393 2024-08-20 02:45:39.025660426        292.089507\n",
      "193         394 2024-08-24 01:29:21.494254162        159.818835\n",
      "194         395 2024-08-21 04:11:37.746460861        244.600519\n",
      "195         396 2024-08-23 01:22:45.238250256        270.504344\n",
      "196         397 2024-08-20 03:33:55.044441460        318.142431\n",
      "197         398 2024-08-25 04:27:14.727369899        307.193929\n",
      "198         399 2024-08-26 03:20:01.061821734        237.732218\n",
      "199         400 2024-08-25 03:57:33.638421084        194.240169\n"
     ]
    }
   ],
   "source": [
    "# Exibir o resultado\n",
    "print(resultado[['product_id', 'Data_Previsao_Compra', 'Media_Quantidade']])\n"
   ]
  }
 ],
 "metadata": {
  "kernelspec": {
   "display_name": "Python 3 (ipykernel)",
   "language": "python",
   "name": "python3"
  },
  "language_info": {
   "codemirror_mode": {
    "name": "ipython",
    "version": 3
   },
   "file_extension": ".py",
   "mimetype": "text/x-python",
   "name": "python",
   "nbconvert_exporter": "python",
   "pygments_lexer": "ipython3",
   "version": "3.11.7"
  }
 },
 "nbformat": 4,
 "nbformat_minor": 5
}
